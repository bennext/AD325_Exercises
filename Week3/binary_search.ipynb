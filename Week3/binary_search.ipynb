{
 "cells": [
  {
   "cell_type": "code",
   "execution_count": 1,
   "metadata": {},
   "outputs": [
    {
     "name": "stdout",
     "output_type": "stream",
     "text": [
      "10\n",
      "-1\n",
      "0\n",
      "8\n",
      "15\n",
      "16\n"
     ]
    }
   ],
   "source": [
    "def binary_search (sorted_list_of_integers, integer_target_value):\n",
    "    \n",
    "    def binary_search (sorted_list_of_integers, integer_target_value, left, right):\n",
    "        # inner def using bounds\n",
    "        if integer_target_value < sorted_list_of_integers[left] or integer_target_value > sorted_list_of_integers[right]  :\n",
    "            return -1\n",
    "        #checks if number is outside bounds\n",
    "        \n",
    "        new_middle = ((right - left) // 2) + left\n",
    "        if sorted_list_of_integers[new_middle] == integer_target_value:\n",
    "            return new_middle\n",
    "        #checks if found it\n",
    "\n",
    "        if new_middle == left or new_middle == right:\n",
    "             return -1 \n",
    "        #if list only has 2 items and neither are it then it is not in the list\n",
    "\n",
    "            \n",
    "        if integer_target_value > sorted_list_of_integers[new_middle]:\n",
    "                high = right\n",
    "                return binary_search (sorted_list_of_integers, integer_target_value, new_middle, high)\n",
    "                #keep going bigger\n",
    "\n",
    "        if integer_target_value < sorted_list_of_integers[new_middle]:\n",
    "                low = left\n",
    "                return binary_search (sorted_list_of_integers, integer_target_value, left, new_middle)\n",
    "                #keep going smaller \n",
    "\n",
    "        \n",
    "    \n",
    "    middle = len(sorted_list_of_integers) // 2\n",
    "    if sorted_list_of_integers[middle] == integer_target_value:\n",
    "        return middle\n",
    "    #checks if middle happens to be answer\n",
    "\n",
    "    if sorted_list_of_integers[-1] == integer_target_value:\n",
    "         return len(sorted_list_of_integers) - 1\n",
    "    #checks if end happens to be answer\n",
    "\n",
    "    if integer_target_value > sorted_list_of_integers[middle]:\n",
    "        high = len(sorted_list_of_integers) - 1\n",
    "        return binary_search (sorted_list_of_integers, integer_target_value, middle, high)\n",
    "    #recures but with a new bound using the top half\n",
    "    \n",
    "    if  integer_target_value < sorted_list_of_integers[middle] :\n",
    "        low = 0\n",
    "        return binary_search (sorted_list_of_integers, integer_target_value, low, middle)\n",
    "    #recures but with a new bound using the top half\n",
    "\n",
    "    return -2 #code should never reach here\n",
    "\n",
    "\n",
    "\n",
    "#testing \n",
    "\n",
    "#     0   1   2   3   4   5   6   7   8   9  10  11  12  13  14  15  16\n",
    "a = [-4,  2,  7, 10, 15, 20, 22, 25, 30, 36, 42, 50, 56, 68, 85, 92, 103]\n",
    "\n",
    "index = binary_search(a, 42)   # 10\n",
    "print (index)\n",
    "index = binary_search(a, 66)   # -1\n",
    "print(index)\n",
    "\n",
    "print(binary_search(a, -4)) # 0\n",
    "\n",
    "print(binary_search(a, 30)) # 8\n",
    "\n",
    "print (binary_search(a, 92)) # 15\n",
    "\n",
    "print (binary_search(a, 103)) # 16\n",
    "\n"
   ]
  }
 ],
 "metadata": {
  "kernelspec": {
   "display_name": "base",
   "language": "python",
   "name": "python3"
  },
  "language_info": {
   "codemirror_mode": {
    "name": "ipython",
    "version": 3
   },
   "file_extension": ".py",
   "mimetype": "text/x-python",
   "name": "python",
   "nbconvert_exporter": "python",
   "pygments_lexer": "ipython3",
   "version": "3.12.4"
  }
 },
 "nbformat": 4,
 "nbformat_minor": 2
}
