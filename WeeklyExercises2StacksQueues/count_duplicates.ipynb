{
 "cells": [
  {
   "cell_type": "code",
   "execution_count": 1,
   "metadata": {},
   "outputs": [],
   "source": [
    "#  Write a function named count_duplicates that accepts a list of integers as a parameter and that returns the number of \n",
    "# duplicate values in the list. \n",
    "# A duplicate value is a value that also occurs earlier in the list. \n",
    "# For example, if a list named a contains [1, 4, 2, 4, 7, 1, 1, 9, 2, 3, 4, 1], \n",
    "# then the call of count_duplicates(a) should return 6 because there are three duplicates of the value 1, \n",
    "# one duplicate of the value 2, and two duplicates of the value 4.\n",
    "\n",
    "# Constraints: The list could be empty or could contain only a single element in such cases, \n",
    "# your function should return 0. \n",
    "# Do not modify the contents of the list. \n",
    "\n",
    "def count_duplicates(listOfInts):\n",
    "\n",
    "    dupCounter = 0\n",
    "\n",
    "    temp_list_set = []\n",
    "    dup_flag = False \n",
    "\n",
    "    for q in listOfInts:\n",
    "        \n",
    "        for existingNumber in temp_list_set:\n",
    "            if existingNumber == q:\n",
    "                dup_flag = True\n",
    "                dupCounter += 1\n",
    "\n",
    "        if dup_flag == False:\n",
    "            temp_list_set.append(q)\n",
    "        \n",
    "        dup_flag = False\n",
    "    return dupCounter\n",
    "\n",
    "# print (count_duplicates(\"6t5frfghu7y6tfg66\"))\n",
    "\n",
    "    # dupList = []\n",
    "    # dupFound = False\n",
    "    # \n",
    "\n",
    "    # for anInt in listOfInts:\n",
    "    #     for dupInt in dupList:\n",
    "    #         if anInt == dupInt:\n",
    "    #             dupFound = True\n",
    "\n",
    "\n",
    "\n",
    "    # return dupCounter\n",
    "\n",
    "\n",
    "    # numbers_ive_found_only_once = []\n",
    "    # numbers_ive_found_dups_of = []\n",
    "\n",
    "    # my_set = set(listOfInts)"
   ]
  }
 ],
 "metadata": {
  "kernelspec": {
   "display_name": "base",
   "language": "python",
   "name": "python3"
  },
  "language_info": {
   "codemirror_mode": {
    "name": "ipython",
    "version": 3
   },
   "file_extension": ".py",
   "mimetype": "text/x-python",
   "name": "python",
   "nbconvert_exporter": "python",
   "pygments_lexer": "ipython3",
   "version": "3.12.4"
  }
 },
 "nbformat": 4,
 "nbformat_minor": 2
}
