{
 "cells": [
  {
   "cell_type": "code",
   "execution_count": null,
   "metadata": {},
   "outputs": [],
   "source": [
    "def contains_duplicate(input)-> bool:\n",
    "  \n",
    "  checked_list = []  #an empty list for numbers alreadchecked\n",
    "  for an_int in input:  #loops through each of input\n",
    "    for checked_int in checked_list: \n",
    "      if an_int == checked_int:  #compares it to checked list\n",
    "        return True\n",
    "    checked_list.append(an_int)\n",
    "  return False\n",
    "\n",
    "# from data limur "
   ]
  }
 ],
 "metadata": {
  "language_info": {
   "name": "python"
  }
 },
 "nbformat": 4,
 "nbformat_minor": 2
}
