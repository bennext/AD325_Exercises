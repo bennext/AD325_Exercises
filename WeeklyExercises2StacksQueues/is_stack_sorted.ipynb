{
 "cells": [
  {
   "cell_type": "code",
   "execution_count": 1,
   "metadata": {},
   "outputs": [
    {
     "name": "stdout",
     "output_type": "stream",
     "text": [
      "False\n",
      "True\n"
     ]
    }
   ],
   "source": [
    "#  Write a function named is_stack_sorted accepts a list of integers as a parameter and treats it as a stack, \n",
    "# returning True if the elements in the stack occur in ascending (non-decreasing) order from bottom (end) to top (front), else False. \n",
    "#  This essentially means that you are checking whether the list is in reverse-sorted order. \n",
    "# An empty or one-element stack is considered to be sorted. \n",
    "# For example, if passed the following stack, your function should return True:\n",
    "\n",
    "# [20, 20, 17, 11, 8, 8, 3, 2]\n",
    "\n",
    "# The following stack is not sorted (the 15 is out of place), so passing it to your function should return a result of False:\n",
    "\n",
    "# [18, 12, 15, 6, 1]\n",
    "\n",
    "# You should treat the list as a stack and not use any index-related operations on it. \n",
    "# This means that the only operations you should use on the list are the pop and append functions and the len function. \n",
    "# You should not use the [] indexing operator nor any other operations that depend on accessing various elements by index. \n",
    "# You also should not use a for-each loop over the stack's elements.\n",
    "\n",
    "# When your function returns, the stack should be in the same state as when it was passed in. \n",
    "# In other words, if your function modifies the stack, you must restore it before returning.\n",
    "\n",
    "# Constraints: You may use one list as auxiliary storage. \n",
    "# Do not declare any other auxiliary data structures, but you can have as many simple variables as you like. \n",
    "# Your solution should run in O(N) time, where N is the number of elements of the list. \n",
    "\n",
    "\n",
    "\n",
    "def is_stack_sorted (givenstack):\n",
    "    bucket = []\n",
    "    goodsofar = True\n",
    "    # print (givenstack.pop())\n",
    "    # print (givenstack.pop())\n",
    "\n",
    "    while len(givenstack) > 0 and goodsofar: \n",
    "        bucket.append(givenstack.pop())\n",
    "        if len(bucket) > 1:\n",
    "            if bucket[-1] < bucket[-2] :\n",
    "                goodsofar = False\n",
    "\n",
    "    while len(bucket) > 0:\n",
    "        givenstack.append(bucket.pop())\n",
    "\n",
    "    return goodsofar\n",
    "\n",
    "\n",
    "## testing \n",
    "\n",
    "stack1 = [1,3,4,5,6,7]\n",
    "\n",
    "stack2 = [8,7,6,5,4,3]\n",
    "\n",
    "print (is_stack_sorted(stack1))\n",
    "print (is_stack_sorted(stack2))\n",
    "            \n",
    "\n",
    "\n",
    "\n",
    "\n",
    "    "
   ]
  }
 ],
 "metadata": {
  "kernelspec": {
   "display_name": "base",
   "language": "python",
   "name": "python3"
  },
  "language_info": {
   "codemirror_mode": {
    "name": "ipython",
    "version": 3
   },
   "file_extension": ".py",
   "mimetype": "text/x-python",
   "name": "python",
   "nbconvert_exporter": "python",
   "pygments_lexer": "ipython3",
   "version": "3.12.4"
  }
 },
 "nbformat": 4,
 "nbformat_minor": 2
}
