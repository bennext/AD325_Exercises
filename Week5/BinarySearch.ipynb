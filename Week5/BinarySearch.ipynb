{
 "cells": [
  {
   "cell_type": "code",
   "execution_count": null,
   "metadata": {},
   "outputs": [
    {
     "name": "stdout",
     "output_type": "stream",
     "text": [
      "4\n"
     ]
    }
   ],
   "source": [
    "class Solution:\n",
    "    def search (self, sorted_list_of_integers, integer_target_value):\n",
    "        \n",
    "        def binary_search (sorted_list_of_integers, integer_target_value, left, right):\n",
    "            # inner def using bounds\n",
    "            if integer_target_value < sorted_list_of_integers[left] or integer_target_value > sorted_list_of_integers[right]  :\n",
    "                return -1\n",
    "            #checks if number is outside bounds\n",
    "            \n",
    "            new_middle = ((right - left) // 2) + left\n",
    "            if sorted_list_of_integers[new_middle] == integer_target_value:\n",
    "                return new_middle\n",
    "            #checks if found it\n",
    "\n",
    "            if new_middle == left or new_middle == right:\n",
    "                return -1 \n",
    "            #if list only has 2 items and neither are it then it is not in the list\n",
    "\n",
    "                \n",
    "            if integer_target_value > sorted_list_of_integers[new_middle]:\n",
    "                    high = right\n",
    "                    return binary_search (sorted_list_of_integers, integer_target_value, new_middle, high)\n",
    "                    #keep going bigger\n",
    "\n",
    "            if integer_target_value < sorted_list_of_integers[new_middle]:\n",
    "                    low = left\n",
    "                    return binary_search (sorted_list_of_integers, integer_target_value, left, new_middle)\n",
    "                    #keep going smaller \n",
    "\n",
    "            \n",
    "        \n",
    "        middle = len(sorted_list_of_integers) // 2\n",
    "        if sorted_list_of_integers[middle] == integer_target_value:\n",
    "            return middle\n",
    "        #checks if middle happens to be answer\n",
    "\n",
    "        if sorted_list_of_integers[-1] == integer_target_value:\n",
    "            return len(sorted_list_of_integers) - 1\n",
    "        #checks if end happens to be answer\n",
    "\n",
    "        if integer_target_value > sorted_list_of_integers[middle]:\n",
    "            high = len(sorted_list_of_integers) - 1\n",
    "            return binary_search (sorted_list_of_integers, integer_target_value, middle, high)\n",
    "        #recures but with a new bound using the top half\n",
    "        \n",
    "        if  integer_target_value < sorted_list_of_integers[middle] :\n",
    "            low = 0\n",
    "            return binary_search (sorted_list_of_integers, integer_target_value, low, middle)\n",
    "        #recures but with a new bound using the top half\n",
    "\n",
    "    \n",
    "\n",
    "# Input: nums = [-1,0,3,5,9,12], target = 9\n",
    "# Output: 4\n",
    "# Explanation: 9 exists in nums and its index is 4\n",
    "\n",
    "    a = 1\n",
    "\n",
    "    nums = [-1,0,3,5,9,12]\n",
    "    print(search(a, nums, 9))\n"
   ]
  }
 ],
 "metadata": {
  "kernelspec": {
   "display_name": "base",
   "language": "python",
   "name": "python3"
  },
  "language_info": {
   "codemirror_mode": {
    "name": "ipython",
    "version": 3
   },
   "file_extension": ".py",
   "mimetype": "text/x-python",
   "name": "python",
   "nbconvert_exporter": "python",
   "pygments_lexer": "ipython3",
   "version": "3.12.4"
  }
 },
 "nbformat": 4,
 "nbformat_minor": 2
}
