{
 "cells": [
  {
   "cell_type": "code",
   "execution_count": null,
   "metadata": {
    "vscode": {
     "languageId": "plaintext"
    }
   },
   "outputs": [],
   "source": [
    "def Intersection (Set_List_A, Set_List_B):\n",
    "\n",
    "  Intersecting_Set_C = []\n",
    "  \n",
    "  for x in Set_List_A:\n",
    "      \n",
    "      for y in Set_List_B:\n",
    "          \n",
    "          if (x == y):\n",
    "              \n",
    "              Intersecting_Set_C.append(x)\n",
    "  \n",
    "  return Intersecting_Set_C"
   ]
  }
 ],
 "metadata": {
  "language_info": {
   "name": "python"
  }
 },
 "nbformat": 4,
 "nbformat_minor": 2
}
