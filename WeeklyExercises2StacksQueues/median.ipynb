{
 "cells": [
  {
   "cell_type": "code",
   "execution_count": 1,
   "metadata": {},
   "outputs": [
    {
     "data": {
      "text/plain": [
       "3"
      ]
     },
     "execution_count": 1,
     "metadata": {},
     "output_type": "execute_result"
    }
   ],
   "source": [
    "\n",
    "\n",
    "# Write a function named median that accepts a list of integers as its argument and returns the median of the numbers in the list. \n",
    "# The median is the number that will appear in the middle if you arrange the elements in order. \n",
    "# Assume that the list is of odd size (so that one sole element constitutes the median) \n",
    "# and that the numbers in the list are between 0 and 99 inclusive.\n",
    "\n",
    "# For example, the median of [5, 2, 4, 17, 55, 4, 3, 26, 18, 2, 17] is 5, \n",
    "# and the median of [42, 37, 1, 97, 1, 2, 7, 42, 3, 25, 89, 15, 10, 29, 27] is 25. \n",
    "\n",
    "def median(listOfNums):\n",
    "\n",
    "    listOfNums.sort()\n",
    "    return listOfNums[len(listOfNums)//2]\n",
    "\n",
    "    # print(listOfNums[len(listOfNums)//2])\n",
    "\n",
    "    # print(listOfNums)\n",
    "\n",
    "\n",
    "### testing\n",
    "\n",
    "median([7, 9, 1,2,3])"
   ]
  }
 ],
 "metadata": {
  "kernelspec": {
   "display_name": "base",
   "language": "python",
   "name": "python3"
  },
  "language_info": {
   "codemirror_mode": {
    "name": "ipython",
    "version": 3
   },
   "file_extension": ".py",
   "mimetype": "text/x-python",
   "name": "python",
   "nbconvert_exporter": "python",
   "pygments_lexer": "ipython3",
   "version": "3.12.4"
  }
 },
 "nbformat": 4,
 "nbformat_minor": 2
}
