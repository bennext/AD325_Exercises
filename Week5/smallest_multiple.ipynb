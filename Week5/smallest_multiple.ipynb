{
 "cells": [
  {
   "cell_type": "code",
   "execution_count": null,
   "metadata": {},
   "outputs": [
    {
     "name": "stdout",
     "output_type": "stream",
     "text": [
      "60\n"
     ]
    }
   ],
   "source": [
    "def smallest_multiple(target):\n",
    "\n",
    "  my_range = range(2, target +1)  # 2, 3, 4, 5.... \n",
    "  value = target\n",
    "\n",
    "  failed_check = True\n",
    "\n",
    "  while failed_check:\n",
    "    failed_check = False\n",
    "  \n",
    "    # the check\n",
    "    for a_factor in my_range:\n",
    "\n",
    "      # print (a_factor)\n",
    "      if value % a_factor != 0:\n",
    "        failed_check = True\n",
    "        # print (value)\n",
    "    \n",
    "    if failed_check:  \n",
    "      value += target\n",
    "      # set a bigger value to try again\n",
    "      \n",
    "\n",
    "  return value\n",
    "\n",
    "# t = 1\n",
    "# my_range = range(2, 5 +1)\n",
    "# for i in my_range:\n",
    "#   print(i)\n",
    "#   t *= i \n",
    "\n",
    "# print (t)\n",
    "\n",
    "print (smallest_multiple(5))"
   ]
  }
 ],
 "metadata": {
  "kernelspec": {
   "display_name": "base",
   "language": "python",
   "name": "python3"
  },
  "language_info": {
   "codemirror_mode": {
    "name": "ipython",
    "version": 3
   },
   "file_extension": ".py",
   "mimetype": "text/x-python",
   "name": "python",
   "nbconvert_exporter": "python",
   "pygments_lexer": "ipython3",
   "version": "3.12.4"
  }
 },
 "nbformat": 4,
 "nbformat_minor": 2
}
